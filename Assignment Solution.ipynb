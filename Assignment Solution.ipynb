{
 "cells": [
  {
   "cell_type": "markdown",
   "id": "ddb6d705-f521-4764-b38c-3d84845dc46c",
   "metadata": {},
   "source": [
    "# 1. Data Preparation"
   ]
  },
  {
   "cell_type": "markdown",
   "id": "a8527cce-3415-4be4-86fe-24db4db6b630",
   "metadata": {},
   "source": [
    "## 1.1: Load the Data\n",
    "Import necessary libraries: pandas, numpy, matplotlib, seaborn and ignoring warings"
   ]
  },
  {
   "cell_type": "code",
   "execution_count": 8,
   "id": "a5442b05-0a56-4004-9639-22f095597ab7",
   "metadata": {},
   "outputs": [],
   "source": [
    "import pandas as pd\n",
    "import numpy as np\n",
    "import matplotlib.pyplot as plt\n",
    "import seaborn as sns\n",
    "\n",
    "import warnings\n",
    "warnings.filterwarnings('ignore')"
   ]
  },
  {
   "cell_type": "markdown",
   "id": "435573fb-4545-43eb-9b47-3ec51e183818",
   "metadata": {},
   "source": [
    "Read the three sheets from the Excel file into separate DataFrames using pandas.read_excel."
   ]
  },
  {
   "cell_type": "code",
   "execution_count": 15,
   "id": "b1edb999-e8c2-4fd0-a26f-3673182730a5",
   "metadata": {},
   "outputs": [],
   "source": [
    "file_path = \"Desktop/Uplairs/Assignment.xlsx\"\n",
    "\n",
    "user_details = pd.read_excel(file_path, sheet_name=\"UserDetails.csv\")\n",
    "cooking_sessions = pd.read_excel(file_path, sheet_name=\"CookingSessions.csv\")\n",
    "order_details = pd.read_excel(file_path, sheet_name=\"OrderDetails.csv\")"
   ]
  },
  {
   "cell_type": "markdown",
   "id": "f0b66de3-63e5-4822-a2a5-8ad9bcfc3c32",
   "metadata": {},
   "source": [
    "Display the first few rows to understand the structure"
   ]
  },
  {
   "cell_type": "code",
   "execution_count": 30,
   "id": "96e34c3f-81a0-45dc-a5c9-fc61883c7d6e",
   "metadata": {},
   "outputs": [
    {
     "name": "stdout",
     "output_type": "stream",
     "text": [
      "  User ID      User Name  Age       Location Registration Date         Phone  \\\n",
      "0    U001  Alice Johnson   28       New York        2023-01-15  123-456-7890   \n",
      "1    U002      Bob Smith   35    Los Angeles        2023-02-20  987-654-3210   \n",
      "2    U003    Charlie Lee   42        Chicago        2023-03-10  555-123-4567   \n",
      "3    U004    David Brown   27  San Francisco        2023-04-05  444-333-2222   \n",
      "4    U005     Emma White   30        Seattle        2023-05-22  777-888-9999   \n",
      "\n",
      "               Email Favorite Meal  Total Orders  \n",
      "0    alice@email.com        Dinner            12  \n",
      "1      bob@email.com         Lunch             8  \n",
      "2  charlie@email.com     Breakfast            15  \n",
      "3    david@email.com        Dinner            10  \n",
      "4     emma@email.com         Lunch             9  \n"
     ]
    }
   ],
   "source": [
    "print(user_details.head())"
   ]
  },
  {
   "cell_type": "code",
   "execution_count": 32,
   "id": "50dbb127-f20d-4014-9b2a-d3ccfb0464fb",
   "metadata": {},
   "outputs": [
    {
     "name": "stdout",
     "output_type": "stream",
     "text": [
      "  Session ID User ID        Dish Name  Meal Type       Session Start  \\\n",
      "0       S001    U001        Spaghetti     Dinner 2024-12-01 19:00:00   \n",
      "1       S002    U002     Caesar Salad      Lunch 2024-12-01 12:00:00   \n",
      "2       S003    U003  Grilled Chicken     Dinner 2024-12-02 19:30:00   \n",
      "3       S004    U001         Pancakes  Breakfast 2024-12-02 07:30:00   \n",
      "4       S005    U004     Caesar Salad      Lunch 2024-12-03 13:00:00   \n",
      "\n",
      "          Session End  Duration (mins)  Session Rating  \n",
      "0 2024-12-01 19:30:00               30             4.5  \n",
      "1 2024-12-01 12:20:00               20             4.0  \n",
      "2 2024-12-02 20:10:00               40             4.8  \n",
      "3 2024-12-02 08:00:00               30             4.2  \n",
      "4 2024-12-03 13:15:00               15             4.7  \n"
     ]
    }
   ],
   "source": [
    "print(cooking_sessions.head())"
   ]
  },
  {
   "cell_type": "code",
   "execution_count": 34,
   "id": "0178b1c2-decc-45a4-9c7b-079019576873",
   "metadata": {},
   "outputs": [
    {
     "name": "stdout",
     "output_type": "stream",
     "text": [
      "   Order ID User ID Order Date  Meal Type        Dish Name Order Status  \\\n",
      "0      1001    U001 2024-12-01     Dinner        Spaghetti    Completed   \n",
      "1      1002    U002 2024-12-01      Lunch     Caesar Salad    Completed   \n",
      "2      1003    U003 2024-12-02     Dinner  Grilled Chicken     Canceled   \n",
      "3      1004    U001 2024-12-02  Breakfast         Pancakes    Completed   \n",
      "4      1005    U004 2024-12-03      Lunch     Caesar Salad    Completed   \n",
      "\n",
      "   Amount (USD) Time of Day  Rating Session ID  \n",
      "0          15.0       Night     5.0       S001  \n",
      "1          10.0         Day     4.0       S002  \n",
      "2          12.5       Night     NaN       S003  \n",
      "3           8.0     Morning     4.0       S004  \n",
      "4           9.0         Day     4.0       S005  \n"
     ]
    }
   ],
   "source": [
    "print(order_details.head())"
   ]
  },
  {
   "cell_type": "markdown",
   "id": "3818d9a8-0652-4346-8429-10e6354ef1ec",
   "metadata": {},
   "source": [
    "## 1.2 Explore the Data\n",
    "We use info() to check the data types and missing values, and describe() for statistical summary."
   ]
  },
  {
   "cell_type": "code",
   "execution_count": 40,
   "id": "5552b6df-5b88-4a28-8e30-8f9cf33ab878",
   "metadata": {},
   "outputs": [
    {
     "name": "stdout",
     "output_type": "stream",
     "text": [
      "<class 'pandas.core.frame.DataFrame'>\n",
      "RangeIndex: 10 entries, 0 to 9\n",
      "Data columns (total 9 columns):\n",
      " #   Column             Non-Null Count  Dtype         \n",
      "---  ------             --------------  -----         \n",
      " 0   User ID            10 non-null     object        \n",
      " 1   User Name          10 non-null     object        \n",
      " 2   Age                10 non-null     int64         \n",
      " 3   Location           10 non-null     object        \n",
      " 4   Registration Date  10 non-null     datetime64[ns]\n",
      " 5   Phone              10 non-null     object        \n",
      " 6   Email              10 non-null     object        \n",
      " 7   Favorite Meal      10 non-null     object        \n",
      " 8   Total Orders       10 non-null     int64         \n",
      "dtypes: datetime64[ns](1), int64(2), object(6)\n",
      "memory usage: 852.0+ bytes\n",
      "None\n",
      "             Age    Registration Date  Total Orders\n",
      "count  10.000000                   10     10.000000\n",
      "mean   31.800000  2023-05-27 02:24:00      9.400000\n",
      "min    25.000000  2023-01-15 00:00:00      5.000000\n",
      "25%    28.250000  2023-03-16 12:00:00      7.250000\n",
      "50%    30.500000  2023-06-03 00:00:00      8.500000\n",
      "75%    34.500000  2023-08-01 00:00:00     11.500000\n",
      "max    42.000000  2023-10-10 00:00:00     15.000000\n",
      "std     5.266245                  NaN      3.339993\n"
     ]
    }
   ],
   "source": [
    "print(user_details.info())\n",
    "print(user_details.describe())"
   ]
  },
  {
   "cell_type": "code",
   "execution_count": 42,
   "id": "5ee6510d-5108-4211-980c-278fb5291063",
   "metadata": {},
   "outputs": [
    {
     "name": "stdout",
     "output_type": "stream",
     "text": [
      "<class 'pandas.core.frame.DataFrame'>\n",
      "RangeIndex: 16 entries, 0 to 15\n",
      "Data columns (total 8 columns):\n",
      " #   Column           Non-Null Count  Dtype         \n",
      "---  ------           --------------  -----         \n",
      " 0   Session ID       16 non-null     object        \n",
      " 1   User ID          16 non-null     object        \n",
      " 2   Dish Name        16 non-null     object        \n",
      " 3   Meal Type        16 non-null     object        \n",
      " 4   Session Start    16 non-null     datetime64[ns]\n",
      " 5   Session End      16 non-null     datetime64[ns]\n",
      " 6   Duration (mins)  16 non-null     int64         \n",
      " 7   Session Rating   16 non-null     float64       \n",
      "dtypes: datetime64[ns](2), float64(1), int64(1), object(4)\n",
      "memory usage: 1.1+ KB\n",
      "None\n",
      "                    Session Start                    Session End  \\\n",
      "count                          16                             16   \n",
      "mean   2024-12-05 02:50:37.500000  2024-12-05 03:20:56.249999872   \n",
      "min           2024-12-01 12:00:00            2024-12-01 12:20:00   \n",
      "25%           2024-12-03 08:37:30            2024-12-03 08:58:45   \n",
      "50%           2024-12-05 00:30:00            2024-12-05 00:57:30   \n",
      "75%           2024-12-06 23:22:30            2024-12-07 00:00:00   \n",
      "max           2024-12-08 19:30:00            2024-12-08 20:10:00   \n",
      "std                           NaN                            NaN   \n",
      "\n",
      "       Duration (mins)  Session Rating  \n",
      "count        16.000000       16.000000  \n",
      "mean         30.312500        4.518750  \n",
      "min          10.000000        4.000000  \n",
      "25%          20.000000        4.300000  \n",
      "50%          30.000000        4.550000  \n",
      "75%          40.000000        4.725000  \n",
      "max          45.000000        5.000000  \n",
      "std          10.873324        0.292617  \n"
     ]
    }
   ],
   "source": [
    "print(cooking_sessions.info())\n",
    "print(cooking_sessions.describe())"
   ]
  },
  {
   "cell_type": "code",
   "execution_count": 44,
   "id": "934c9e02-f76e-4465-9a5f-74b803a0a4a7",
   "metadata": {},
   "outputs": [
    {
     "name": "stdout",
     "output_type": "stream",
     "text": [
      "<class 'pandas.core.frame.DataFrame'>\n",
      "RangeIndex: 16 entries, 0 to 15\n",
      "Data columns (total 10 columns):\n",
      " #   Column        Non-Null Count  Dtype         \n",
      "---  ------        --------------  -----         \n",
      " 0   Order ID      16 non-null     int64         \n",
      " 1   User ID       16 non-null     object        \n",
      " 2   Order Date    16 non-null     datetime64[ns]\n",
      " 3   Meal Type     16 non-null     object        \n",
      " 4   Dish Name     16 non-null     object        \n",
      " 5   Order Status  16 non-null     object        \n",
      " 6   Amount (USD)  16 non-null     float64       \n",
      " 7   Time of Day   16 non-null     object        \n",
      " 8   Rating        14 non-null     float64       \n",
      " 9   Session ID    16 non-null     object        \n",
      "dtypes: datetime64[ns](1), float64(2), int64(1), object(6)\n",
      "memory usage: 1.4+ KB\n",
      "None\n",
      "          Order ID           Order Date  Amount (USD)     Rating\n",
      "count    16.000000                   16     16.000000  14.000000\n",
      "mean   1008.500000  2024-12-04 12:00:00     11.250000   4.285714\n",
      "min    1001.000000  2024-12-01 00:00:00      7.000000   4.000000\n",
      "25%    1004.750000  2024-12-02 18:00:00      9.000000   4.000000\n",
      "50%    1008.500000  2024-12-04 12:00:00     11.500000   4.000000\n",
      "75%    1012.250000  2024-12-06 06:00:00     13.125000   4.750000\n",
      "max    1016.000000  2024-12-08 00:00:00     15.000000   5.000000\n",
      "std       4.760952                  NaN      2.435843   0.468807\n"
     ]
    }
   ],
   "source": [
    "print(order_details.info())\n",
    "print(order_details.describe())"
   ]
  },
  {
   "cell_type": "markdown",
   "id": "ad3b5974-591c-4834-8ced-7f7d58c2950f",
   "metadata": {},
   "source": [
    "To check any null values are there in the data "
   ]
  },
  {
   "cell_type": "markdown",
   "id": "6c6dc71d-caad-47a4-9e1b-b9a5a02a92de",
   "metadata": {},
   "source": [
    "## 1.3: Clean the Data\n",
    "Handle Missing Values:"
   ]
  },
  {
   "cell_type": "code",
   "execution_count": 47,
   "id": "ce21b727-735d-4c56-8868-a152088740f7",
   "metadata": {},
   "outputs": [
    {
     "name": "stdout",
     "output_type": "stream",
     "text": [
      "User ID              0\n",
      "User Name            0\n",
      "Age                  0\n",
      "Location             0\n",
      "Registration Date    0\n",
      "Phone                0\n",
      "Email                0\n",
      "Favorite Meal        0\n",
      "Total Orders         0\n",
      "dtype: int64\n"
     ]
    }
   ],
   "source": [
    "print(user_details.isnull().sum())"
   ]
  },
  {
   "cell_type": "code",
   "execution_count": 49,
   "id": "d7208cd9-5a1e-44c3-bd34-2cb6d9b3fd35",
   "metadata": {},
   "outputs": [
    {
     "name": "stdout",
     "output_type": "stream",
     "text": [
      "Session ID         0\n",
      "User ID            0\n",
      "Dish Name          0\n",
      "Meal Type          0\n",
      "Session Start      0\n",
      "Session End        0\n",
      "Duration (mins)    0\n",
      "Session Rating     0\n",
      "dtype: int64\n"
     ]
    }
   ],
   "source": [
    "print(cooking_sessions.isnull().sum())"
   ]
  },
  {
   "cell_type": "code",
   "execution_count": 51,
   "id": "d67cb050-8ced-40fd-a40d-1a39e33624bb",
   "metadata": {},
   "outputs": [
    {
     "name": "stdout",
     "output_type": "stream",
     "text": [
      "Order ID        0\n",
      "User ID         0\n",
      "Order Date      0\n",
      "Meal Type       0\n",
      "Dish Name       0\n",
      "Order Status    0\n",
      "Amount (USD)    0\n",
      "Time of Day     0\n",
      "Rating          2\n",
      "Session ID      0\n",
      "dtype: int64\n"
     ]
    }
   ],
   "source": [
    "print(order_details.isnull().sum())"
   ]
  },
  {
   "cell_type": "markdown",
   "id": "c72d8f4e-0c1a-4e7f-93c8-edacf5db48ae",
   "metadata": {},
   "source": [
    "Drop rows with missing values\n"
   ]
  },
  {
   "cell_type": "code",
   "execution_count": 56,
   "id": "7c0038c6-32ad-4ae2-aa5d-b9285254f5d1",
   "metadata": {},
   "outputs": [],
   "source": [
    "user_details = user_details.dropna()\n",
    "cooking_sessions = cooking_sessions.dropna()\n",
    "order_details = order_details.dropna()"
   ]
  },
  {
   "cell_type": "markdown",
   "id": "291806cc-0069-4830-b1ac-779e575baa93",
   "metadata": {},
   "source": [
    "Convert Registration Date, Session Start, and Session End to datetime."
   ]
  },
  {
   "cell_type": "code",
   "execution_count": 59,
   "id": "190e8fe2-2ea6-4b7b-8146-1acac0b85acc",
   "metadata": {},
   "outputs": [],
   "source": [
    "user_details['Registration Date'] = pd.to_datetime(user_details['Registration Date'])\n",
    "cooking_sessions['Session Start'] = pd.to_datetime(cooking_sessions['Session Start'])\n",
    "cooking_sessions['Session End'] = pd.to_datetime(cooking_sessions['Session End'])\n",
    "order_details['Order Date'] = pd.to_datetime(order_details['Order Date'])"
   ]
  },
  {
   "cell_type": "markdown",
   "id": "cf2524af-35fe-4598-9a3b-a6d02b7c60dd",
   "metadata": {},
   "source": [
    "Remove any duplicate records."
   ]
  },
  {
   "cell_type": "code",
   "execution_count": 62,
   "id": "8a9875b0-eeae-415f-bd21-52d0394cb7a4",
   "metadata": {},
   "outputs": [],
   "source": [
    "user_details.drop_duplicates(inplace=True)\n",
    "cooking_sessions.drop_duplicates(inplace=True)\n",
    "order_details.drop_duplicates(inplace=True)"
   ]
  },
  {
   "cell_type": "markdown",
   "id": "7d5d3be0-ce33-4f46-b0bc-2fbb7b27e61f",
   "metadata": {},
   "source": [
    "# Step 2: Data Integration\n",
    "## 2.1 Merge Datasets\n",
    "We need to merge the datasets based on the User ID and Session ID. First, merge UserDetails and CookingSessions on User ID, then merge the result with OrderDetails using Session ID."
   ]
  },
  {
   "cell_type": "code",
   "execution_count": 67,
   "id": "35666fa9-dea3-4ec7-a099-badde286dd84",
   "metadata": {},
   "outputs": [
    {
     "name": "stdout",
     "output_type": "stream",
     "text": [
      "  User ID_x      User Name  Age     Location Registration Date         Phone  \\\n",
      "0      U001  Alice Johnson   28     New York        2023-01-15  123-456-7890   \n",
      "1      U001  Alice Johnson   28     New York        2023-01-15  123-456-7890   \n",
      "2      U001  Alice Johnson   28     New York        2023-01-15  123-456-7890   \n",
      "3      U002      Bob Smith   35  Los Angeles        2023-02-20  987-654-3210   \n",
      "4      U002      Bob Smith   35  Los Angeles        2023-02-20  987-654-3210   \n",
      "\n",
      "             Email Favorite Meal  Total Orders Session ID  ... Session Rating  \\\n",
      "0  alice@email.com        Dinner            12       S001  ...            4.5   \n",
      "1  alice@email.com        Dinner            12       S004  ...            4.2   \n",
      "2  alice@email.com        Dinner            12       S009  ...            4.9   \n",
      "3    bob@email.com         Lunch             8       S002  ...            4.0   \n",
      "4    bob@email.com         Lunch             8       S006  ...            4.3   \n",
      "\n",
      "  Order ID User ID_y Order Date  Meal Type_y      Dish Name_y  Order Status  \\\n",
      "0   1001.0      U001 2024-12-01       Dinner        Spaghetti     Completed   \n",
      "1   1004.0      U001 2024-12-02    Breakfast         Pancakes     Completed   \n",
      "2   1009.0      U001 2024-12-05       Dinner  Grilled Chicken     Completed   \n",
      "3   1002.0      U002 2024-12-01        Lunch     Caesar Salad     Completed   \n",
      "4   1006.0      U002 2024-12-03       Dinner        Spaghetti     Completed   \n",
      "\n",
      "  Amount (USD) Time of Day Rating  \n",
      "0         15.0       Night    5.0  \n",
      "1          8.0     Morning    4.0  \n",
      "2         12.0       Night    5.0  \n",
      "3         10.0         Day    4.0  \n",
      "4         14.0       Night    4.0  \n",
      "\n",
      "[5 rows x 25 columns]\n"
     ]
    }
   ],
   "source": [
    "# Merge UserDetails with CookingSessions based on 'User ID'\n",
    "merged_data = pd.merge(user_details, cooking_sessions, on=\"User ID\", how=\"inner\")\n",
    "\n",
    "# Merge the result with OrderDetails based on 'Session ID'\n",
    "merged_data = pd.merge(merged_data, order_details, on=\"Session ID\", how=\"left\")\n",
    "\n",
    "# Display merged data\n",
    "print(merged_data.head())"
   ]
  },
  {
   "cell_type": "code",
   "execution_count": 69,
   "id": "f320e160-6411-40a0-ad8a-a83c05374ac9",
   "metadata": {},
   "outputs": [
    {
     "name": "stdout",
     "output_type": "stream",
     "text": [
      "Index(['User ID_x', 'User Name', 'Age', 'Location', 'Registration Date',\n",
      "       'Phone', 'Email', 'Favorite Meal', 'Total Orders', 'Session ID',\n",
      "       'Dish Name_x', 'Meal Type_x', 'Session Start', 'Session End',\n",
      "       'Duration (mins)', 'Session Rating', 'Order ID', 'User ID_y',\n",
      "       'Order Date', 'Meal Type_y', 'Dish Name_y', 'Order Status',\n",
      "       'Amount (USD)', 'Time of Day', 'Rating'],\n",
      "      dtype='object')\n"
     ]
    }
   ],
   "source": [
    "print(merged_data.columns)"
   ]
  },
  {
   "cell_type": "code",
   "execution_count": 71,
   "id": "4aa626ad-3afc-433f-a274-25b0c57f85b0",
   "metadata": {},
   "outputs": [
    {
     "name": "stdout",
     "output_type": "stream",
     "text": [
      "Index(['User ID', 'User Name', 'Age', 'Location', 'Registration Date', 'Phone',\n",
      "       'Email', 'Favorite Meal', 'Total Orders', 'Session ID', 'Dish Name',\n",
      "       'Meal Type', 'Session Start', 'Session End', 'Duration (mins)',\n",
      "       'Session Rating', 'Order ID', 'Order Date', 'Order Status',\n",
      "       'Amount (USD)', 'Time of Day', 'Rating'],\n",
      "      dtype='object')\n"
     ]
    }
   ],
   "source": [
    "# Rename columns for clarity\n",
    "merged_data.rename(\n",
    "    columns={\n",
    "        'User ID_x': 'User ID',  # Retain the User ID from UserDetails\n",
    "        'Dish Name_x': 'Dish Name',  # Retain Dish Name from CookingSessions\n",
    "        'Meal Type_x': 'Meal Type',  # Retain Meal Type from CookingSessions\n",
    "    },\n",
    "    inplace=True\n",
    ")\n",
    "\n",
    "# Optionally drop redundant columns\n",
    "merged_data.drop(columns=['User ID_y', 'Dish Name_y', 'Meal Type_y'], inplace=True)\n",
    "\n",
    "# Verify the updated column names\n",
    "print(merged_data.columns)"
   ]
  },
  {
   "cell_type": "markdown",
   "id": "f24e9cc6-79f0-443d-a532-5d0b2ce65f8d",
   "metadata": {},
   "source": [
    "## 2.2 Feature Engineering\n",
    "Create new features such as:\n",
    "\n",
    "Order Frequency: Number of orders divided by the number of days since the user's registration.\n",
    "\n",
    "Cooking Engagement: Total cooking sessions per user.\n",
    "\n",
    "Revenue Contribution: Sum of the Amount (USD) for each user"
   ]
  },
  {
   "cell_type": "code",
   "execution_count": 77,
   "id": "cc99bfb6-162b-451c-a8e8-15a48a2b93d8",
   "metadata": {},
   "outputs": [
    {
     "name": "stdout",
     "output_type": "stream",
     "text": [
      "  User ID      User Name  Age     Location Registration Date         Phone  \\\n",
      "0    U001  Alice Johnson   28     New York        2023-01-15  123-456-7890   \n",
      "1    U001  Alice Johnson   28     New York        2023-01-15  123-456-7890   \n",
      "2    U001  Alice Johnson   28     New York        2023-01-15  123-456-7890   \n",
      "3    U002      Bob Smith   35  Los Angeles        2023-02-20  987-654-3210   \n",
      "4    U002      Bob Smith   35  Los Angeles        2023-02-20  987-654-3210   \n",
      "\n",
      "             Email Favorite Meal  Total Orders Session ID  ... Order ID  \\\n",
      "0  alice@email.com        Dinner             3       S001  ...   1001.0   \n",
      "1  alice@email.com        Dinner             3       S004  ...   1004.0   \n",
      "2  alice@email.com        Dinner             3       S009  ...   1009.0   \n",
      "3    bob@email.com         Lunch             3       S002  ...   1002.0   \n",
      "4    bob@email.com         Lunch             3       S006  ...   1006.0   \n",
      "\n",
      "  Order Date Order Status Amount (USD)  Time of Day  Rating  \\\n",
      "0 2024-12-01    Completed         15.0        Night     5.0   \n",
      "1 2024-12-02    Completed          8.0      Morning     4.0   \n",
      "2 2024-12-05    Completed         12.0        Night     5.0   \n",
      "3 2024-12-01    Completed         10.0          Day     4.0   \n",
      "4 2024-12-03    Completed         14.0        Night     4.0   \n",
      "\n",
      "   Registration Duration Order Frequency Cooking Engagement  \\\n",
      "0                    698        0.004298                  3   \n",
      "1                    698        0.004298                  3   \n",
      "2                    698        0.004298                  3   \n",
      "3                    662        0.004532                  3   \n",
      "4                    662        0.004532                  3   \n",
      "\n",
      "   Revenue Contribution  \n",
      "0                  35.0  \n",
      "1                  35.0  \n",
      "2                  35.0  \n",
      "3                  31.0  \n",
      "4                  31.0  \n",
      "\n",
      "[5 rows x 26 columns]\n"
     ]
    }
   ],
   "source": [
    "# Calculate Registration Duration in days\n",
    "merged_data['Registration Duration'] = (\n",
    "    pd.to_datetime('today') - pd.to_datetime(merged_data['Registration Date'])\n",
    ").dt.days\n",
    "\n",
    "# Calculate Order Frequency (Total Orders per Day)\n",
    "merged_data['Total Orders'] = merged_data.groupby('User ID')['Order ID'].transform('count')\n",
    "merged_data['Order Frequency'] = merged_data['Total Orders'] / merged_data['Registration Duration']\n",
    "\n",
    "# Calculate Cooking Engagement (Total Cooking Sessions per User)\n",
    "merged_data['Cooking Engagement'] = merged_data.groupby('User ID')['Session ID'].transform('count')\n",
    "\n",
    "# Calculate Revenue Contribution (Total Amount per User)\n",
    "merged_data['Revenue Contribution'] = merged_data.groupby('User ID')['Amount (USD)'].transform('sum')\n",
    "\n",
    "# Display the updated DataFrame\n",
    "print(merged_data.head())\n"
   ]
  },
  {
   "cell_type": "code",
   "execution_count": 79,
   "id": "9dfff501-54ce-44af-b568-192343f0bf1b",
   "metadata": {},
   "outputs": [],
   "source": [
    "# Replace infinite values with 0\n",
    "merged_data['Order Frequency'] = merged_data['Order Frequency'].replace([float('inf'), -float('inf')], 0)\n",
    "\n",
    "# Fill NaN values with 0\n",
    "merged_data['Order Frequency'] = merged_data['Order Frequency'].fillna(0)\n",
    "merged_data['Cooking Engagement'] = merged_data['Cooking Engagement'].fillna(0)\n",
    "merged_data['Revenue Contribution'] = merged_data['Revenue Contribution'].fillna(0)"
   ]
  },
  {
   "cell_type": "code",
   "execution_count": 81,
   "id": "b23451fa-e91c-4a83-af5b-a27bb70132c5",
   "metadata": {},
   "outputs": [
    {
     "name": "stdout",
     "output_type": "stream",
     "text": [
      "<class 'pandas.core.frame.DataFrame'>\n",
      "RangeIndex: 16 entries, 0 to 15\n",
      "Data columns (total 3 columns):\n",
      " #   Column                Non-Null Count  Dtype  \n",
      "---  ------                --------------  -----  \n",
      " 0   Order Frequency       16 non-null     float64\n",
      " 1   Cooking Engagement    16 non-null     int64  \n",
      " 2   Revenue Contribution  16 non-null     float64\n",
      "dtypes: float64(2), int64(1)\n",
      "memory usage: 516.0 bytes\n",
      "None\n"
     ]
    }
   ],
   "source": [
    "print(merged_data[['Order Frequency', 'Cooking Engagement', 'Revenue Contribution']].info())"
   ]
  },
  {
   "cell_type": "markdown",
   "id": "de0e7cdc-3d39-42f5-b867-eeaf8693de29",
   "metadata": {},
   "source": [
    "# Step 3: Data Analysis\n",
    "## 3.1 Explore the relationship between cooking sessions and user orders."
   ]
  },
  {
   "cell_type": "code",
   "execution_count": 84,
   "id": "fbe47407-4c87-4a90-83ca-e573ce557768",
   "metadata": {},
   "outputs": [
    {
     "name": "stdout",
     "output_type": "stream",
     "text": [
      "Correlation between Cooking Engagement and Total Orders:\n",
      "                    Cooking Engagement  Total Orders\n",
      "Cooking Engagement              1.0000        0.5547\n",
      "Total Orders                    0.5547        1.0000\n",
      "Order Frequency by Cooking Engagement Levels:\n",
      "Cooking Engagement\n",
      "Very Low     0.001919\n",
      "Low          0.003433\n",
      "Moderate          NaN\n",
      "High              NaN\n",
      "Very High         NaN\n",
      "Name: Order Frequency, dtype: float64\n"
     ]
    }
   ],
   "source": [
    "# Correlation between Cooking Engagement and Total Orders\n",
    "correlation = merged_data[['Cooking Engagement', 'Total Orders']].corr()\n",
    "print(\"Correlation between Cooking Engagement and Total Orders:\")\n",
    "print(correlation)\n",
    "\n",
    "# Average Order Frequency by Cooking Engagement Levels\n",
    "cooking_engagement_bins = pd.cut(\n",
    "    merged_data['Cooking Engagement'],\n",
    "    bins=[0, 1, 5, 10, 20, 100],\n",
    "    labels=['Very Low', 'Low', 'Moderate', 'High', 'Very High']\n",
    ")\n",
    "order_frequency_by_engagement = merged_data.groupby(cooking_engagement_bins)['Order Frequency'].mean()\n",
    "print(\"Order Frequency by Cooking Engagement Levels:\")\n",
    "print(order_frequency_by_engagement)\n"
   ]
  },
  {
   "cell_type": "markdown",
   "id": "3088a9b3-30cf-4aa3-83b8-3f9a3a3dedde",
   "metadata": {},
   "source": [
    "## 3.2 Top 10 Most Ordered Dishes"
   ]
  },
  {
   "cell_type": "code",
   "execution_count": 90,
   "id": "dd4ddc2b-0121-4faa-8019-904a87d52044",
   "metadata": {},
   "outputs": [
    {
     "name": "stdout",
     "output_type": "stream",
     "text": [
      "Top 10 Most Ordered Dishes:\n",
      "Dish Name\n",
      "Spaghetti          4\n",
      "Grilled Chicken    4\n",
      "Caesar Salad       3\n",
      "Pancakes           2\n",
      "Veggie Burger      2\n",
      "Oatmeal            1\n",
      "Name: count, dtype: int64\n",
      "Order Count by Meal Type:\n",
      "Meal Type\n",
      "Dinner       8\n",
      "Lunch        5\n",
      "Breakfast    3\n",
      "Name: count, dtype: int64\n"
     ]
    }
   ],
   "source": [
    "# Top 10 Most Ordered Dishes\n",
    "popular_dishes = merged_data['Dish Name'].value_counts().head(10)\n",
    "print(\"Top 10 Most Ordered Dishes:\")\n",
    "print(popular_dishes)\n",
    "\n",
    "# Order Count by Meal Type\n",
    "meal_type_trends = merged_data['Meal Type'].value_counts()\n",
    "print(\"Order Count by Meal Type:\")\n",
    "print(meal_type_trends)"
   ]
  },
  {
   "cell_type": "markdown",
   "id": "396acf0e-558d-44f7-b12e-2ce5626c3106",
   "metadata": {},
   "source": [
    "## 3.3 Average Order Frequency and Cooking Engagement by Age Group"
   ]
  },
  {
   "cell_type": "code",
   "execution_count": 96,
   "id": "f6eb58da-3df9-4cf6-b15e-e0852839121f",
   "metadata": {},
   "outputs": [
    {
     "name": "stdout",
     "output_type": "stream",
     "text": [
      "Order Frequency and Cooking Engagement by Age Group:\n",
      "       Order Frequency  Cooking Engagement\n",
      "Age                                       \n",
      "<18                NaN                 NaN\n",
      "18-25         0.001828            1.000000\n",
      "26-35         0.003819            2.454545\n",
      "36-50         0.001636            2.500000\n",
      "50+                NaN                 NaN\n",
      "Top 5 Locations by Revenue Contribution:\n",
      "Location\n",
      "New York         105.0\n",
      "Los Angeles       93.0\n",
      "Seattle           45.0\n",
      "San Francisco     43.0\n",
      "Chicago           25.5\n",
      "Name: Revenue Contribution, dtype: float64\n"
     ]
    }
   ],
   "source": [
    "# Average Order Frequency and Cooking Engagement by Age Group\n",
    "age_bins = pd.cut(\n",
    "    merged_data['Age'],\n",
    "    bins=[0, 18, 25, 35, 50, 100],\n",
    "    labels=['<18', '18-25', '26-35', '36-50', '50+']\n",
    ")\n",
    "age_analysis = merged_data.groupby(age_bins)[['Order Frequency', 'Cooking Engagement']].mean()\n",
    "print(\"Order Frequency and Cooking Engagement by Age Group:\")\n",
    "print(age_analysis)\n",
    "\n",
    "# Top 5 Locations by Revenue Contribution\n",
    "top_locations = merged_data.groupby('Location')['Revenue Contribution'].sum().sort_values(ascending=False).head(5)\n",
    "print(\"Top 5 Locations by Revenue Contribution:\")\n",
    "print(top_locations)"
   ]
  },
  {
   "cell_type": "markdown",
   "id": "f1b00239-5edd-4971-895e-b2585d1b8b95",
   "metadata": {},
   "source": [
    "# Step 4: Visualization"
   ]
  },
  {
   "cell_type": "markdown",
   "id": "2ff5a518-fa02-4526-837b-2ec0927f397c",
   "metadata": {},
   "source": [
    "## 4.1  Heatmap of correlations"
   ]
  },
  {
   "cell_type": "code",
   "execution_count": 101,
   "id": "f3dc48c9-432e-4e06-a87d-657ddd5d3865",
   "metadata": {},
   "outputs": [
    {
     "data": {
      "image/png": "[encoded data removed]",
      "text/plain": [
       "<Figure size 1000x600 with 2 Axes>"
      ]
     },
     "metadata": {},
     "output_type": "display_data"
    }
   ],
   "source": [
    "# Heatmap of correlations\n",
    "plt.figure(figsize=(10, 6))\n",
    "sns.heatmap(merged_data[['Cooking Engagement', 'Total Orders', 'Order Frequency', 'Revenue Contribution']].corr(), annot=True, cmap='coolwarm')\n",
    "plt.title(\"Correlation Heatmap\")\n",
    "plt.show()\n"
   ]
  },
  {
   "cell_type": "markdown",
   "id": "1d805f63-dcdb-4107-81d5-e8f93b9aaad0",
   "metadata": {},
   "source": [
    "## 4.2 Bar chart for top 10 dishes"
   ]
  },
  {
   "cell_type": "code",
   "execution_count": 104,
   "id": "f0d44e8d-519e-4892-a993-16b98e653781",
   "metadata": {},
   "outputs": [
    {
     "data": {
      "image/png": "[encoded data removed]",
      "text/plain": [
       "<Figure size 1000x600 with 1 Axes>"
      ]
     },
     "metadata": {},
     "output_type": "display_data"
    }
   ],
   "source": [
    "# Bar chart for top 10 dishes\n",
    "popular_dishes.plot(kind='bar', figsize=(10, 6), color='skyblue')\n",
    "plt.title(\"Top 10 Most Ordered Dishes\")\n",
    "plt.xlabel(\"Dish Name\")\n",
    "plt.ylabel(\"Order Count\")\n",
    "plt.show()"
   ]
  },
  {
   "cell_type": "markdown",
   "id": "1e58aec6-ae16-4cb4-b2d3-ed0d11b81c21",
   "metadata": {},
   "source": [
    "## 4.3  Bar chart for age analysis"
   ]
  },
  {
   "cell_type": "code",
   "execution_count": 113,
   "id": "8b2b13d4-faf2-47b7-ac3d-47a5a9492e1d",
   "metadata": {},
   "outputs": [
    {
     "data": {
      "image/png": "[encoded data removed]",
      "text/plain": [
       "<Figure size 1000x600 with 1 Axes>"
      ]
     },
     "metadata": {},
     "output_type": "display_data"
    }
   ],
   "source": [
    "# Bar chart for age analysis\n",
    "age_analysis.plot(kind='bar', figsize=(10, 6))\n",
    "plt.title(\"Order Frequency and Cooking Engagement by Age Group\")\n",
    "plt.xlabel(\"Age Group\")\n",
    "plt.ylabel(\"Average Values\")\n",
    "plt.legend([\"Order Frequency\", \"Cooking Engagement\"])\n",
    "plt.show()"
   ]
  },
  {
   "cell_type": "code",
   "execution_count": null,
   "id": "f9ed79fe-a3ed-44fb-9b95-243cd31e26fd",
   "metadata": {},
   "outputs": [],
   "source": []
  }
 ],
 "metadata": {
  "kernelspec": {
   "display_name": "Python [conda env:base] *",
   "language": "python",
   "name": "conda-base-py"
  },
  "language_info": {
   "codemirror_mode": {
    "name": "ipython",
    "version": 3
   },
   "file_extension": ".py",
   "mimetype": "text/x-python",
   "name": "python",
   "nbconvert_exporter": "python",
   "pygments_lexer": "ipython3",
   "version": "3.12.7"
  }
 },
 "nbformat": 4,
 "nbformat_minor": 5
}
